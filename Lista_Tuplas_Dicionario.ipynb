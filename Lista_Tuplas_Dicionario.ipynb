{
  "nbformat": 4,
  "nbformat_minor": 0,
  "metadata": {
    "colab": {
      "provenance": [],
      "authorship_tag": "ABX9TyOuz8Dqh9BOASeDbiCG8sSh",
      "include_colab_link": true
    },
    "kernelspec": {
      "name": "python3",
      "display_name": "Python 3"
    },
    "language_info": {
      "name": "python"
    }
  },
  "cells": [
    {
      "cell_type": "markdown",
      "metadata": {
        "id": "view-in-github",
        "colab_type": "text"
      },
      "source": [
        "<a href=\"https://colab.research.google.com/github/vini1147/DankiCode/blob/main/Lista_Tuplas_Dicionario.ipynb\" target=\"_parent\"><img src=\"https://colab.research.google.com/assets/colab-badge.svg\" alt=\"Open In Colab\"/></a>"
      ]
    },
    {
      "cell_type": "markdown",
      "source": [
        "# listas\n",
        "\n"
      ],
      "metadata": {
        "id": "3kayGQA360F4"
      }
    },
    {
      "cell_type": "code",
      "execution_count": 15,
      "metadata": {
        "colab": {
          "base_uri": "https://localhost:8080/"
        },
        "id": "XDEcc54I5bly",
        "outputId": "d6740560-9a28-462c-8f79-dec4a5852e2e"
      },
      "outputs": [
        {
          "output_type": "stream",
          "name": "stdout",
          "text": [
            "['carro', 'bicicleta', 'barco']\n",
            "carro\n",
            "bicicleta\n",
            "barco\n"
          ]
        }
      ],
      "source": [
        "lista = ['carro','bicicleta','barco']\n",
        "print(lista)\n",
        "\n",
        "for palavra in lista:\n",
        "  print(palavra)"
      ]
    },
    {
      "cell_type": "code",
      "source": [
        "type(lista)"
      ],
      "metadata": {
        "colab": {
          "base_uri": "https://localhost:8080/"
        },
        "id": "FVQdnwxY7HiD",
        "outputId": "b493c3fb-dc4f-40e1-b2af-8e56fed72fc5"
      },
      "execution_count": 16,
      "outputs": [
        {
          "output_type": "execute_result",
          "data": {
            "text/plain": [
              "list"
            ]
          },
          "metadata": {},
          "execution_count": 16
        }
      ]
    },
    {
      "cell_type": "code",
      "source": [
        "lista.append(True)"
      ],
      "metadata": {
        "id": "dXC_3g4t7ocL"
      },
      "execution_count": 17,
      "outputs": []
    },
    {
      "cell_type": "code",
      "source": [
        "lista.pop(-1)"
      ],
      "metadata": {
        "colab": {
          "base_uri": "https://localhost:8080/"
        },
        "id": "YoU1SSVj7vjC",
        "outputId": "eafdb43a-4e87-4798-ddd5-abeba86c7c67"
      },
      "execution_count": 18,
      "outputs": [
        {
          "output_type": "execute_result",
          "data": {
            "text/plain": [
              "True"
            ]
          },
          "metadata": {},
          "execution_count": 18
        }
      ]
    },
    {
      "cell_type": "code",
      "source": [
        "lista"
      ],
      "metadata": {
        "colab": {
          "base_uri": "https://localhost:8080/"
        },
        "id": "wFoL1hHE73gr",
        "outputId": "8fddd391-da9e-475a-836e-cf1b59833a83"
      },
      "execution_count": 19,
      "outputs": [
        {
          "output_type": "execute_result",
          "data": {
            "text/plain": [
              "['carro', 'bicicleta', 'barco']"
            ]
          },
          "metadata": {},
          "execution_count": 19
        }
      ]
    },
    {
      "cell_type": "markdown",
      "source": [
        "# Tuplas"
      ],
      "metadata": {
        "id": "shJhJ8jO77Pd"
      }
    },
    {
      "cell_type": "code",
      "source": [
        "tupla = ('carro',True,2.5)"
      ],
      "metadata": {
        "id": "SDRLPTTt8A5-"
      },
      "execution_count": 20,
      "outputs": []
    },
    {
      "cell_type": "code",
      "source": [
        "tupla"
      ],
      "metadata": {
        "colab": {
          "base_uri": "https://localhost:8080/"
        },
        "id": "xjdn1Sob8PdX",
        "outputId": "38acddb3-6c22-418a-94a7-08bc1965f61b"
      },
      "execution_count": 21,
      "outputs": [
        {
          "output_type": "execute_result",
          "data": {
            "text/plain": [
              "('carro', True, 2.5)"
            ]
          },
          "metadata": {},
          "execution_count": 21
        }
      ]
    },
    {
      "cell_type": "code",
      "source": [
        "tupla_2 = ('carro','carro',2,2)"
      ],
      "metadata": {
        "id": "fd_ND3mZ8Vho"
      },
      "execution_count": 22,
      "outputs": []
    },
    {
      "cell_type": "code",
      "source": [
        "tupla_2"
      ],
      "metadata": {
        "colab": {
          "base_uri": "https://localhost:8080/"
        },
        "id": "m8fh7xgi8cKA",
        "outputId": "900a09b3-b147-4c32-e504-147345f41be6"
      },
      "execution_count": 23,
      "outputs": [
        {
          "output_type": "execute_result",
          "data": {
            "text/plain": [
              "('carro', 'carro', 2, 2)"
            ]
          },
          "metadata": {},
          "execution_count": 23
        }
      ]
    }
  ]
}